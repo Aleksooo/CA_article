{
 "cells": [
  {
   "cell_type": "code",
   "execution_count": 36,
   "metadata": {},
   "outputs": [],
   "source": [
    "from src.utils_py.auxil import *\n",
    "import numpy as np\n",
    "import matplotlib.pyplot as plt\n",
    "import matplotlib.animation as animation\n",
    "from matplotlib.patches import Polygon\n",
    "from scipy.spatial import Delaunay\n",
    "from scipy.signal import convolve2d"
   ]
  },
  {
   "cell_type": "code",
   "execution_count": 383,
   "metadata": {},
   "outputs": [
    {
     "data": {
      "text/plain": [
       "(100, 100)"
      ]
     },
     "execution_count": 383,
     "metadata": {},
     "output_type": "execute_result"
    }
   ],
   "source": [
    "grid = np.load(f'phase_diagrams/delta_0.1_grid.npy')\n",
    "grid.shape"
   ]
  },
  {
   "cell_type": "code",
   "execution_count": 384,
   "metadata": {},
   "outputs": [],
   "source": [
    "filter1 = np.array([\n",
    "    [1, 1, 1],\n",
    "    [1, 0, 1],\n",
    "    [1, 1, 1]\n",
    "], dtype=int)\n",
    "filter2 = np.array([\n",
    "    [0, 1, 0],\n",
    "    [1, 0, 1],\n",
    "    [0, 1, 0]\n",
    "], dtype=int)\n",
    "filter3 = np.array([\n",
    "    [0, 0, 0],\n",
    "    [1, 0, 1],\n",
    "    [0, 0, 0]\n",
    "], dtype=int)\n",
    "filter4 = np.array([\n",
    "    [0, 1, 0],\n",
    "    [0, 0, 0],\n",
    "    [0, 1, 0]\n",
    "], dtype=int)\n",
    "\n",
    "def get_border(grid, type):\n",
    "    region = grid.copy()\n",
    "    region[region!=type] = 0\n",
    "    region[region==type] = 1\n",
    "    region_conv1 = convolve2d(filter2, region)[1:-1, 1:-1]\n",
    "    # region[np.logical_not(np.logical_and(region_conv>=3, region_conv<=5))] = 0\n",
    "    region[region_conv1 > 3] = 0\n",
    "\n",
    "    # region_conv2 = convolve2d(filter1, region)[1:-1, 1:-1]\n",
    "    # region[np.logical_and(region_conv1 > 3, region_conv2>5)] = 0\n",
    "    # region[region__conv>5] = 0\n",
    "\n",
    "    return region"
   ]
  },
  {
   "cell_type": "code",
   "execution_count": 385,
   "metadata": {},
   "outputs": [],
   "source": [
    "def get_region(grid, type):\n",
    "    region = grid.copy()\n",
    "    region[region!=type] = 0\n",
    "    region[region==type] = 1\n",
    "\n",
    "    return region"
   ]
  },
  {
   "cell_type": "code",
   "execution_count": 357,
   "metadata": {},
   "outputs": [],
   "source": [
    "neigh_coords = np.argwhere(np.array([\n",
    "    [1, 1, 1],\n",
    "    [1, 0, 1],\n",
    "    [1, 1, 1]\n",
    "], dtype=int))\n",
    "\n",
    "def sort_xy(xy, border):\n",
    "    N, M = border.shape\n",
    "    sorted_xy = list()\n",
    "    sorted_xy.append(xy[0, ::-1].tolist())\n",
    "\n",
    "    i = 0\n",
    "    # while i < xy.shape[0]-1:\n",
    "    for i in range(xy.shape[0]-1):\n",
    "        for j in range(neigh_coords.shape[0]):\n",
    "            xj, yj = (np.array(sorted_xy[i-1][::-1], dtype=int) - 1) + neigh_coords[j, :]\n",
    "\n",
    "            # Проверка выхода за границу\n",
    "            if not (0 <= xj < N) or not (0 <= yj < M): continue\n",
    "\n",
    "            # Проверка соседа\n",
    "            if border[xj, yj]:\n",
    "                # Проверка, что сосед уже в отсортированном массиве\n",
    "                if i > 0:\n",
    "                    # if np.all(sorted_xy[i-1, :] == [xj, yj]):\n",
    "                    if [yj, xj] in sorted_xy:\n",
    "                        continue\n",
    "\n",
    "                sorted_xy.append([yj, xj])\n",
    "                break\n",
    "\n",
    "    return np.array(sorted_xy, dtype=int)\n"
   ]
  },
  {
   "cell_type": "code",
   "execution_count": 358,
   "metadata": {},
   "outputs": [],
   "source": [
    "def alpha_shape(points, alpha, only_outer=True):\n",
    "    \"\"\"\n",
    "    Compute the alpha shape (concave hull) of a set of points.\n",
    "    :param points: np.array of shape (n,2) points.\n",
    "    :param alpha: alpha value.\n",
    "    :param only_outer: boolean value to specify if we keep only the outer border\n",
    "    or also inner edges.\n",
    "    :return: set of (i,j) pairs representing edges of the alpha-shape. (i,j) are\n",
    "    the indices in the points array.\n",
    "    \"\"\"\n",
    "    assert points.shape[0] > 3, \"Need at least four points\"\n",
    "\n",
    "    def add_edge(edges, i, j):\n",
    "        \"\"\"\n",
    "        Add an edge between the i-th and j-th points,\n",
    "        if not in the list already\n",
    "        \"\"\"\n",
    "        if (i, j) in edges or (j, i) in edges:\n",
    "            # already added\n",
    "            assert (j, i) in edges, \"Can't go twice over same directed edge right?\"\n",
    "            if only_outer:\n",
    "                # if both neighboring triangles are in shape, it's not a boundary edge\n",
    "                edges.remove((j, i))\n",
    "            return\n",
    "        edges.add((i, j))\n",
    "\n",
    "    tri = Delaunay(points)\n",
    "    edges = set()\n",
    "    # Loop over triangles:\n",
    "    # ia, ib, ic = indices of corner points of the triangle\n",
    "    for ia, ib, ic in tri.simplices:\n",
    "        pa = points[ia]\n",
    "        pb = points[ib]\n",
    "        pc = points[ic]\n",
    "        # Computing radius of triangle circumcircle\n",
    "        # www.mathalino.com/reviewer/derivation-of-formulas/derivation-of-formula-for-radius-of-circumcircle\n",
    "        a = np.sqrt((pa[0] - pb[0]) ** 2 + (pa[1] - pb[1]) ** 2)\n",
    "        b = np.sqrt((pb[0] - pc[0]) ** 2 + (pb[1] - pc[1]) ** 2)\n",
    "        c = np.sqrt((pc[0] - pa[0]) ** 2 + (pc[1] - pa[1]) ** 2)\n",
    "        s = (a + b + c) / 2.0\n",
    "        area = np.sqrt(s * (s - a) * (s - b) * (s - c))\n",
    "        circum_r = a * b * c / (4.0 * area)\n",
    "        if circum_r < alpha:\n",
    "            add_edge(edges, ia, ib)\n",
    "            add_edge(edges, ib, ic)\n",
    "            add_edge(edges, ic, ia)\n",
    "    return edges"
   ]
  },
  {
   "cell_type": "code",
   "execution_count": 359,
   "metadata": {},
   "outputs": [],
   "source": [
    "def find_edges_with(i, edge_set):\n",
    "    i_first = [j for (x,j) in edge_set if x==i]\n",
    "    i_second = [j for (j,x) in edge_set if x==i]\n",
    "    return i_first,i_second"
   ]
  },
  {
   "cell_type": "code",
   "execution_count": 360,
   "metadata": {},
   "outputs": [],
   "source": [
    "def stitch_boundaries(edges):\n",
    "    edge_set = edges.copy()\n",
    "    boundary_lst = []\n",
    "    while len(edge_set) > 0:\n",
    "        boundary = []\n",
    "        edge0 = edge_set.pop()\n",
    "        boundary.append(edge0)\n",
    "        last_edge = edge0\n",
    "        while len(edge_set) > 0:\n",
    "            i,j = last_edge\n",
    "            j_first, j_second = find_edges_with(j, edge_set)\n",
    "            if j_first:\n",
    "                edge_set.remove((j, j_first[0]))\n",
    "                edge_with_j = (j, j_first[0])\n",
    "                boundary.append(edge_with_j)\n",
    "                last_edge = edge_with_j\n",
    "            elif j_second:\n",
    "                edge_set.remove((j_second[0], j))\n",
    "                edge_with_j = (j, j_second[0])  # flip edge rep\n",
    "                boundary.append(edge_with_j)\n",
    "                last_edge = edge_with_j\n",
    "\n",
    "            if edge0[0] == last_edge[1]:\n",
    "                break\n",
    "\n",
    "        boundary_lst.append(boundary)\n",
    "    return boundary_lst"
   ]
  },
  {
   "cell_type": "code",
   "execution_count": null,
   "metadata": {},
   "outputs": [],
   "source": []
  },
  {
   "cell_type": "code",
   "execution_count": 379,
   "metadata": {},
   "outputs": [],
   "source": [
    "type_id = 4\n",
    "\n",
    "# border = get_border(grid, type_id)\n",
    "border = get_region(grid, type_id)\n",
    "xy = np.argwhere(border)\n",
    "# xy = sort_xy(xy, border)\n",
    "# poly = Polygon(xy, hatch='/')"
   ]
  },
  {
   "cell_type": "code",
   "execution_count": 380,
   "metadata": {},
   "outputs": [
    {
     "data": {
      "image/png": "[encoded data removed]",
      "text/plain": [
       "<Figure size 640x480 with 1 Axes>"
      ]
     },
     "metadata": {},
     "output_type": "display_data"
    }
   ],
   "source": [
    "# Plotting the output\n",
    "edges = alpha_shape(xy, 2)\n",
    "polys = stitch_boundaries(edges)\n",
    "plt.imshow(border, origin='lower')\n",
    "# plt.plot(xy[:, 0], xy[:, 1], '.')\n",
    "for i, j in edges:\n",
    "    plt.plot(xy[[i, j], 1], xy[[i, j], 0], lw=2)\n",
    "plt.show()"
   ]
  },
  {
   "cell_type": "code",
   "execution_count": 346,
   "metadata": {},
   "outputs": [],
   "source": [
    "tri = Delaunay(xy, incremental=True)"
   ]
  },
  {
   "cell_type": "code",
   "execution_count": 283,
   "metadata": {},
   "outputs": [],
   "source": [
    "edges = alpha_shape(xy, 4)"
   ]
  },
  {
   "cell_type": "code",
   "execution_count": 266,
   "metadata": {},
   "outputs": [
    {
     "data": {
      "image/png": "[encoded data removed]",
      "text/plain": [
       "<Figure size 640x480 with 1 Axes>"
      ]
     },
     "metadata": {},
     "output_type": "display_data"
    }
   ],
   "source": [
    "points = tri.points\n",
    "plt.triplot(points[:,0], points[:,1], tri.simplices)\n",
    "plt.plot(points[:,0], points[:,1], 'o')\n",
    "plt.show()"
   ]
  },
  {
   "cell_type": "code",
   "execution_count": 382,
   "metadata": {},
   "outputs": [
    {
     "data": {
      "image/png": "[encoded data removed]",
      "text/plain": [
       "<Figure size 800x600 with 1 Axes>"
      ]
     },
     "metadata": {},
     "output_type": "display_data"
    }
   ],
   "source": [
    "plt.figure(figsize=(8, 6))\n",
    "\n",
    "# plt.imshow(grid)\n",
    "# coords = np.argwhere(border)\n",
    "# x_min, y_min = coords.min(axis=0)\n",
    "# x_max, y_max = coords.max(axis=0)\n",
    "# cropped = border[x_min:x_max+1, y_min:y_max+1]\n",
    "# plt.imshow(cropped,  origin='lower')\n",
    "\n",
    "ax = plt.gca()\n",
    "# ax.imshow(border, origin='lower')\n",
    "\n",
    "edges = alpha_shape(xy, 50)\n",
    "polys = stitch_boundaries(edges)\n",
    "for poly in polys:\n",
    "    xy_ = list()\n",
    "    xy_.append(xy[poly[0][0]].tolist())\n",
    "    for pair in poly:\n",
    "        xy_.append(xy[pair[1]].tolist())\n",
    "\n",
    "    p = Polygon(np.array(xy_, dtype=int)[:, ::-1], hatch='')\n",
    "    ax.add_patch(p)\n",
    "\n",
    "plt.show()"
   ]
  },
  {
   "cell_type": "code",
   "execution_count": 249,
   "metadata": {},
   "outputs": [
    {
     "data": {
      "text/plain": [
       "array([[41, 30],\n",
       "       [ 2,  2],\n",
       "       [ 1,  1]])"
      ]
     },
     "execution_count": 249,
     "metadata": {},
     "output_type": "execute_result"
    }
   ],
   "source": [
    "simp = tri.simplices\n",
    "inc = simp[0, :]\n",
    "xy[inc, :]"
   ]
  },
  {
   "cell_type": "code",
   "execution_count": null,
   "metadata": {},
   "outputs": [],
   "source": [
    "arr = np.zeros_like(border)\n",
    "l = 225\n",
    "for i in range(l):\n",
    "    xi, yi = xy[i, :]\n",
    "    arr[xi, yi] = 1\n",
    "\n",
    "plt.figure(figsize=(8, 6))\n",
    "\n",
    "# plt.imshow(grid)\n",
    "plt.imshow(arr, origin='lower')\n",
    "plt.show()"
   ]
  },
  {
   "cell_type": "code",
   "execution_count": 37,
   "metadata": {},
   "outputs": [],
   "source": [
    "poly = Polygon(xy)"
   ]
  },
  {
   "cell_type": "markdown",
   "metadata": {},
   "source": [
    "---\n",
    "# Graham scan"
   ]
  },
  {
   "cell_type": "code",
   "execution_count": 424,
   "metadata": {},
   "outputs": [],
   "source": [
    "from collections import deque\n",
    "from functools import cmp_to_key"
   ]
  },
  {
   "cell_type": "code",
   "execution_count": 575,
   "metadata": {},
   "outputs": [
    {
     "data": {
      "text/plain": [
       "(100, 100)"
      ]
     },
     "execution_count": 575,
     "metadata": {},
     "output_type": "execute_result"
    }
   ],
   "source": [
    "grid = np.load(f'phase_diagrams/delta_0.1_grid.npy')\n",
    "grid.shape"
   ]
  },
  {
   "cell_type": "code",
   "execution_count": 588,
   "metadata": {},
   "outputs": [],
   "source": [
    "region = get_region(grid, 4)\n",
    "points = np.argwhere(region).tolist()\n",
    "stack = deque()"
   ]
  },
  {
   "cell_type": "code",
   "execution_count": 589,
   "metadata": {},
   "outputs": [],
   "source": [
    "mn = points[0]\n",
    "\n",
    "for i in range(1, len(points)):\n",
    "    mni = points[i]\n",
    "\n",
    "    if mni[0] < mn[0]:\n",
    "        mn = mni\n",
    "    elif mni[0] == mn[0]:\n",
    "        if mni[1] < mn[1]:\n",
    "            mn = mni\n",
    "\n",
    "p0 = mn"
   ]
  },
  {
   "cell_type": "code",
   "execution_count": 590,
   "metadata": {},
   "outputs": [
    {
     "data": {
      "text/plain": [
       "[36, 64]"
      ]
     },
     "execution_count": 590,
     "metadata": {},
     "output_type": "execute_result"
    }
   ],
   "source": [
    "p0"
   ]
  },
  {
   "cell_type": "code",
   "execution_count": 591,
   "metadata": {},
   "outputs": [],
   "source": [
    "def compare(x):\n",
    "    return (x[1] - p0[1]) / sqrt((x[0] - p0[0])**2 + (x[1] - p0[1])**2)"
   ]
  },
  {
   "cell_type": "code",
   "execution_count": 592,
   "metadata": {},
   "outputs": [],
   "source": [
    "arr = sorted(points[1:], key=compare, reverse=True)"
   ]
  },
  {
   "cell_type": "code",
   "execution_count": 593,
   "metadata": {},
   "outputs": [
    {
     "data": {
      "text/plain": [
       "<matplotlib.image.AxesImage at 0x10c8760a0>"
      ]
     },
     "execution_count": 593,
     "metadata": {},
     "output_type": "execute_result"
    },
    {
     "data": {
      "image/png": "[encoded data removed]",
      "text/plain": [
       "<Figure size 640x480 with 1 Axes>"
      ]
     },
     "metadata": {},
     "output_type": "display_data"
    }
   ],
   "source": [
    "region_ = region.copy()\n",
    "region_[p0[0], p0[1]] = 1\n",
    "for i in range(200):\n",
    "    region_[arr[i][0], arr[i][1]] = 2\n",
    "\n",
    "plt.imshow(region_, origin='lower')"
   ]
  },
  {
   "cell_type": "code",
   "execution_count": 594,
   "metadata": {},
   "outputs": [],
   "source": [
    "def ccw(x, y, p):\n",
    "    return (x[0] - p[0]) * (y[1] - p[1]) - (x[1] - p[1]) * (y[0] - p[0])"
   ]
  },
  {
   "cell_type": "code",
   "execution_count": 595,
   "metadata": {},
   "outputs": [],
   "source": [
    "def next_to_top(stack):\n",
    "    return stack.pop().pop()"
   ]
  },
  {
   "cell_type": "code",
   "execution_count": 596,
   "metadata": {},
   "outputs": [],
   "source": [
    "def top(stack):\n",
    "    return stack.pop()"
   ]
  },
  {
   "cell_type": "code",
   "execution_count": 597,
   "metadata": {},
   "outputs": [],
   "source": [
    "for point in points:\n",
    "    while len(stack) > 1 and ccw(stack[-2], stack[-1], point) >= 0:\n",
    "        stack.pop()\n",
    "    stack.append(point)"
   ]
  },
  {
   "cell_type": "code",
   "execution_count": 598,
   "metadata": {},
   "outputs": [
    {
     "data": {
      "text/plain": [
       "<matplotlib.image.AxesImage at 0x10c9f8760>"
      ]
     },
     "execution_count": 598,
     "metadata": {},
     "output_type": "execute_result"
    },
    {
     "data": {
      "image/png": "[encoded data removed]",
      "text/plain": [
       "<Figure size 640x480 with 1 Axes>"
      ]
     },
     "metadata": {},
     "output_type": "display_data"
    }
   ],
   "source": [
    "region_ = region.copy()\n",
    "region_[p0[0], p0[1]] = 1\n",
    "for i in range(len(stack)):\n",
    "    region_[stack[i][0], stack[i][1]] = 2\n",
    "\n",
    "plt.imshow(region_, origin='lower')"
   ]
  },
  {
   "cell_type": "code",
   "execution_count": 425,
   "metadata": {},
   "outputs": [],
   "source": [
    "def compare(x, y):\n",
    "    if (x[0] - p0[0])**2 + (x[1] - p0[1])**2 ==\n",
    "\n",
    "\n",
    "\n",
    "    return (y[1] - p[1]) / (y[0] - p[0]) > (x[1] - p[1]) / (x[0] - p[0])"
   ]
  },
  {
   "cell_type": "code",
   "execution_count": 407,
   "metadata": {},
   "outputs": [],
   "source": [
    "def comp(x):\n",
    "    return x[0] + x[1]"
   ]
  },
  {
   "cell_type": "code",
   "execution_count": 409,
   "metadata": {},
   "outputs": [
    {
     "data": {
      "text/plain": [
       "[[1, 1], [1, 2], [2, 1]]"
      ]
     },
     "execution_count": 409,
     "metadata": {},
     "output_type": "execute_result"
    }
   ],
   "source": [
    "\n",
    "\n",
    "\n",
    "sorted([\n",
    "    [1, 2],\n",
    "    [1, 1],\n",
    "    [2, 1]\n",
    "], key=cmp_to_key(compare))"
   ]
  },
  {
   "cell_type": "code",
   "execution_count": 413,
   "metadata": {},
   "outputs": [],
   "source": [
    "a = 1\n",
    "b = 2\n",
    "a, b = b, a"
   ]
  },
  {
   "cell_type": "code",
   "execution_count": 414,
   "metadata": {},
   "outputs": [
    {
     "data": {
      "text/plain": [
       "2"
      ]
     },
     "execution_count": 414,
     "metadata": {},
     "output_type": "execute_result"
    }
   ],
   "source": [
    "a\n"
   ]
  },
  {
   "cell_type": "code",
   "execution_count": null,
   "metadata": {},
   "outputs": [],
   "source": []
  }
 ],
 "metadata": {
  "kernelspec": {
   "display_name": ".venv",
   "language": "python",
   "name": "python3"
  },
  "language_info": {
   "codemirror_mode": {
    "name": "ipython",
    "version": 3
   },
   "file_extension": ".py",
   "mimetype": "text/x-python",
   "name": "python",
   "nbconvert_exporter": "python",
   "pygments_lexer": "ipython3",
   "version": "3.9.6"
  }
 },
 "nbformat": 4,
 "nbformat_minor": 2
}

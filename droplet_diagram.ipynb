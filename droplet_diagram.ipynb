{
 "cells": [
  {
   "cell_type": "code",
   "execution_count": 1,
   "metadata": {},
   "outputs": [],
   "source": [
    "import numpy as np\n",
    "import matplotlib.pyplot as plt\n",
    "import matplotlib.patches as mpatches\n",
    "import matplotlib.colors"
   ]
  },
  {
   "cell_type": "markdown",
   "metadata": {},
   "source": [
    "---"
   ]
  },
  {
   "cell_type": "code",
   "execution_count": 2,
   "metadata": {},
   "outputs": [
    {
     "data": {
      "text/plain": [
       "'\\nphi_min = \\n    phi_max = \\n\\n    if phi_min < phi < phi_max:\\n'"
      ]
     },
     "execution_count": 2,
     "metadata": {},
     "output_type": "execute_result"
    }
   ],
   "source": [
    "# Шаблон\n",
    "'''\n",
    "phi_min = \n",
    "    phi_max = \n",
    "\n",
    "    if phi_min < phi < phi_max:\n",
    "'''"
   ]
  },
  {
   "cell_type": "code",
   "execution_count": 3,
   "metadata": {},
   "outputs": [],
   "source": [
    "def S_drop(phi, l, theta):\n",
    "    phi_min = 0\n",
    "    phi_max = np.pi*(4 + (1+np.cos(theta))**2*np.cos(theta))/3/l/l/(1-np.cos(theta))**3\n",
    "\n",
    "    if phi_min < phi < phi_max:\n",
    "        r = np.cbrt(3*phi*l*l / np.pi / (4 + (1 + np.cos(theta))**2 * np.cos(theta)))\n",
    "\n",
    "        return np.pi*r*r*(2 + np.sin(theta) - 2*np.cos(theta)), (phi_min, phi_max)\n",
    "    else:\n",
    "        return 1000, (phi_min, phi_max)"
   ]
  },
  {
   "cell_type": "code",
   "execution_count": 4,
   "metadata": {},
   "outputs": [],
   "source": [
    "def S_drop_180(phi, l):\n",
    "    phi_min = 0\n",
    "    phi_max = np.pi / 6 / l / l\n",
    "\n",
    "    if phi_min < phi < phi_max:\n",
    "        return np.cbrt(36*np.pi*(phi*l*l)**2), (phi_min, phi_max)\n",
    "    else:\n",
    "        return 1000, (phi_min, phi_max)"
   ]
  },
  {
   "cell_type": "code",
   "execution_count": 5,
   "metadata": {},
   "outputs": [],
   "source": [
    "def S_dou(phi, l, theta):\n",
    "    phi_min = -2*np.pi*(-5 + np.cos(2*theta) + 3*(np.pi-2*theta)*np.tan(theta))/48/l/l/np.cos(theta)**2\n",
    "    phi_max = np.pi*(9*np.cos(theta) - np.cos(3*theta) + 6*(1+l*np.cos(theta))*(l - np.pi + 2*theta + 2*np.cos(theta) + l*np.cos(2*theta) - np.sin(2*theta)))/48/l/l/np.cos(theta)**3\n",
    "\n",
    "    if phi_min < phi < phi_max: \n",
    "        d = (np.pi-2*theta)/np.cos(theta)**2/4 - np.tan(theta)/2 + np.sqrt(-4 + 64*phi*l*l/np.pi + (np.pi-2*theta)**2/np.cos(theta)**4 + 8*(np.cos(2*theta)-5)/np.cos(theta)**2/3 + 4*(1+(np.pi-2*theta)*np.tan(theta))/np.cos(theta)**2) / 4\n",
    "\n",
    "        return np.pi*d*d/2 - np.pi/np.cos(theta) + np.pi*(np.pi-2*theta)*(d+np.tan(theta))/np.cos(theta)/2, (phi_min, phi_max)\n",
    "    else:\n",
    "        return 1000, (phi_min, phi_max)"
   ]
  },
  {
   "cell_type": "code",
   "execution_count": 6,
   "metadata": {},
   "outputs": [],
   "source": [
    "def S_dou_180(phi, l):\n",
    "    phi_min = np.pi / 6 / l / l\n",
    "    phi_max = np.pi * (1/4 + (np.pi-4)/8/l + (10-3*np.pi)/24/l/l)\n",
    "\n",
    "    if phi_min < phi < phi_max:\n",
    "        return -np.pi**3/16 + 2*np.pi/3 + 2*phi*l*l + np.sqrt(3*np.pi**3*(3*np.pi**3 - 32*np.pi + 192*phi*l*l))/48, (phi_min, phi_max)\n",
    "    else:\n",
    "        return 1000, (phi_min, phi_max)"
   ]
  },
  {
   "cell_type": "code",
   "execution_count": 7,
   "metadata": {},
   "outputs": [],
   "source": [
    "def S_worm(phi, l, theta):\n",
    "    phi_min = 0\n",
    "    phi_max = (2*theta - np.sin(2*theta))/2/l/(1 - np.cos(theta))**2\n",
    "\n",
    "    if phi_min < phi < phi_max:\n",
    "        r = np.sqrt(2*phi*l / (2*theta - np.sin(2*theta)))\n",
    "\n",
    "        return 2*l*r*(theta + np.sin(theta)), (phi_min, phi_max)\n",
    "    else:\n",
    "        return 1000, (phi_min, phi_max)"
   ]
  },
  {
   "cell_type": "code",
   "execution_count": 8,
   "metadata": {},
   "outputs": [],
   "source": [
    "def S_worm_180(phi, l):\n",
    "    phi_min = 0\n",
    "    phi_max = np.pi/4/l\n",
    "\n",
    "    if phi_min < phi < phi_max:\n",
    "        return 2 * np.sqrt(np.pi*phi*l**3), (phi_min, phi_max)\n",
    "    else:\n",
    "        return 1000, (phi_min, phi_max)"
   ]
  },
  {
   "cell_type": "code",
   "execution_count": 9,
   "metadata": {},
   "outputs": [],
   "source": [
    "def S_roll(phi, l, theta):\n",
    "    phi_min = -(np.pi-2*theta)/4/l/np.cos(theta)**2 + np.tan(theta)/2/l\n",
    "    phi_max = 1 + 1/l/np.cos(theta) - (np.pi-2*theta)/4/l/np.cos(theta)**2 - np.tan(theta)/2/l\n",
    "\n",
    "    if phi_min < phi < phi_max:\n",
    "        d = phi*l + (np.pi-2*theta)/np.cos(theta)**2/4 - np.tan(theta)/2\n",
    "\n",
    "        return 2*d*l + l*(np.pi-2*theta)/np.cos(theta), (phi_min, phi_max)\n",
    "    else:\n",
    "        return 1000, (phi_min, phi_max)"
   ]
  },
  {
   "cell_type": "code",
   "execution_count": 10,
   "metadata": {},
   "outputs": [],
   "source": [
    "def S_roll_180(phi, l):\n",
    "    phi_min = np.pi/4/l\n",
    "    phi_max = 1 + (np.pi - 4)/4/l\n",
    "\n",
    "    if phi_min < phi < phi_max:\n",
    "        return np.pi*l/2 + 2*phi*l*l, (phi_min, phi_max)\n",
    "    else:\n",
    "        return 1000, (phi_min, phi_max)"
   ]
  },
  {
   "cell_type": "code",
   "execution_count": 11,
   "metadata": {},
   "outputs": [],
   "source": [
    "def S_perf(phi, l, theta):\n",
    "    phi_min = 1 - np.pi/4 + np.pi*np.tan(theta)/4/l + np.pi*(1 - 3/np.cos(theta)**2 - 3*(np.pi-2*theta)*(l-np.tan(theta))/2/np.cos(theta)**2)/12/l/l\n",
    "    phi_max = 1 + np.pi/64/l/l + np.pi*(np.cos(3*theta)/np.cos(theta)**3 - 29/np.cos(theta)**2 + 8*(np.pi-2*theta)/np.cos(theta)**3 + 16*np.sin(theta)*np.tan(theta))/64/l/l\n",
    "\n",
    "    if phi_min < phi < phi_max:\n",
    "        d = -(np.pi-2*theta)/np.cos(theta)**2/4 + np.tan(theta)/2 + np.sqrt(4/3 + 64*l*l*(1-phi)/np.pi + (np.pi-2*theta)**2/np.cos(theta)**4 + 4*(-3+(np.pi-2*theta)*np.tan(theta))/np.cos(theta)**2)/4\n",
    "\n",
    "        return 2*l*l - np.pi*d*d/2 + np.pi/np.cos(theta) + np.pi*(np.pi-2*theta)*(d+np.tan(theta))/np.cos(theta)/2, (phi_min, phi_max)\n",
    "    else:\n",
    "        return 1000, (phi_min, phi_max)"
   ]
  },
  {
   "cell_type": "code",
   "execution_count": 12,
   "metadata": {},
   "outputs": [],
   "source": [
    "def S_perf_180(phi, l):\n",
    "    phi_min = 1 - np.pi/4 + np.pi**2/8/l - np.pi/6/l/l\n",
    "    phi_max = 1 - np.pi*(5/12 - np.pi/8)/l/l\n",
    "\n",
    "    if phi_min < phi < phi_max:\n",
    "        return np.pi**3/16 - 2*np.pi/3 + 2*phi*l*l + np.sqrt(3*np.pi**3*(3*np.pi**3 - 32*np.pi + 192*(1-phi)*l*l))/48, (phi_min, phi_max)\n",
    "    else:\n",
    "        return 1000, (phi_min, phi_max)"
   ]
  },
  {
   "cell_type": "markdown",
   "metadata": {},
   "source": [
    "---"
   ]
  },
  {
   "cell_type": "markdown",
   "metadata": {},
   "source": [
    "### Проверим предельный переход формул"
   ]
  },
  {
   "cell_type": "code",
   "execution_count": 196,
   "metadata": {},
   "outputs": [],
   "source": [
    "phi = [0.2, 0.4, 0.6, 0.8]\n",
    "l   = [0.5, 1.0, 1.5, 2.0]"
   ]
  },
  {
   "cell_type": "code",
   "execution_count": 198,
   "metadata": {},
   "outputs": [
    {
     "name": "stdout",
     "output_type": "stream",
     "text": [
      "0\n",
      "0.6563429036687329 (0, 2.0943951023931953)\n",
      "0.6563429036687328 (0, 2.0943951023931953)\n",
      "1\n",
      "2.6253716146749317 (0, 0.5235987755982988)\n",
      "2.6253716146749313 (0, 0.5235987755982988)\n",
      "2\n",
      "1000 (0, 0.23271056693257727)\n",
      "1000 (0, 0.23271056693257727)\n",
      "3\n",
      "1000 (0, 0.1308996938995747)\n",
      "1000 (0, 0.1308996938995747)\n"
     ]
    }
   ],
   "source": [
    "for i in range(4):\n",
    "    print(i)\n",
    "    print(*S_drop(phi[i], l[i], np.pi))\n",
    "    print(*S_drop_180(phi[i], l[i]))"
   ]
  },
  {
   "cell_type": "code",
   "execution_count": 199,
   "metadata": {},
   "outputs": [
    {
     "name": "stdout",
     "output_type": "stream",
     "text": [
      "0\n",
      "1000 (2.094395102393195, 0.41239216551830377)\n",
      "1000 (2.0943951023931953, 0.41239216551830427)\n",
      "1\n",
      "1000 (0.5235987755982987, 0.5235987755982988)\n",
      "1000 (0.5235987755982988, 0.5235987755982988)\n",
      "2\n",
      "1000 (0.2327105669325772, 0.5941327073403314)\n",
      "1000 (0.23271056693257727, 0.5941327073403314)\n",
      "3\n",
      "1000 (0.13089969389957468, 0.6356743722829792)\n",
      "1000 (0.1308996938995747, 0.6356743722829792)\n"
     ]
    }
   ],
   "source": [
    "for i in range(4):\n",
    "    print(i)\n",
    "    print(*S_dou(phi[i], l[i], np.pi))\n",
    "    print(*S_dou_180(phi[i], l[i]))"
   ]
  },
  {
   "cell_type": "code",
   "execution_count": 200,
   "metadata": {},
   "outputs": [
    {
     "name": "stdout",
     "output_type": "stream",
     "text": [
      "0\n",
      "0.5604991216397928 (0, 1.5707963267948966)\n",
      "0.5604991216397929 (0, 1.5707963267948966)\n",
      "1\n",
      "2.241996486559171 (0, 0.7853981633974483)\n",
      "2.2419964865591715 (0, 0.7853981633974483)\n",
      "2\n",
      "1000 (0, 0.5235987755982988)\n",
      "1000 (0, 0.5235987755982988)\n",
      "3\n",
      "1000 (0, 0.39269908169872414)\n",
      "1000 (0, 0.39269908169872414)\n"
     ]
    }
   ],
   "source": [
    "for i in range(4):\n",
    "    print(i)\n",
    "    print(*S_worm(phi[i], l[i], np.pi))\n",
    "    print(*S_worm_180(phi[i], l[i]))"
   ]
  },
  {
   "cell_type": "code",
   "execution_count": 204,
   "metadata": {},
   "outputs": [
    {
     "name": "stdout",
     "output_type": "stream",
     "text": [
      "0\n",
      "1000 (1.5707963267948963, 0.5707963267948967)\n",
      "1000 (1.5707963267948966, 0.5707963267948966)\n",
      "1\n",
      "1000 (0.7853981633974482, 0.7853981633974484)\n",
      "1000 (0.7853981633974483, 0.7853981633974483)\n",
      "2\n",
      "5.056194490192345 (0.5235987755982988, 0.8569321089316322)\n",
      "5.056194490192345 (0.5235987755982988, 0.8569321089316322)\n",
      "3\n",
      "9.541592653589793 (0.3926990816987241, 0.8926990816987241)\n",
      "9.541592653589793 (0.39269908169872414, 0.8926990816987241)\n"
     ]
    }
   ],
   "source": [
    "for i in range(4):\n",
    "    print(i)\n",
    "    print(*S_roll(phi[i], l[i], np.pi))\n",
    "    print(*S_roll_180(phi[i], l[i]))"
   ]
  },
  {
   "cell_type": "code",
   "execution_count": 205,
   "metadata": {},
   "outputs": [
    {
     "name": "stdout",
     "output_type": "stream",
     "text": [
      "0\n",
      "1000 (0.5876078344816961, 0.633364597611903)\n",
      "1000 (0.587607834481696, 0.6988144445616902)\n",
      "1\n",
      "1000 (0.9247036111404227, 0.9083411494029758)\n",
      "1000 (0.9247036111404227, 0.9247036111404225)\n",
      "2\n",
      "1000 (0.8043583030940875, 0.9592627330679891)\n",
      "1000 (0.8043583030940877, 0.9665349382846322)\n",
      "3\n",
      "8.672070793508139 (0.7005524177710618, 0.9770852873507438)\n",
      "8.672070793508139 (0.7005524177710619, 0.9811759027851057)\n"
     ]
    }
   ],
   "source": [
    "for i in range(4):\n",
    "    print(i)\n",
    "    print(*S_perf(phi[i], l[i], np.pi))\n",
    "    print(*S_perf_180(phi[i], l[i]))"
   ]
  },
  {
   "cell_type": "markdown",
   "metadata": {},
   "source": [
    "---"
   ]
  },
  {
   "cell_type": "code",
   "execution_count": 14,
   "metadata": {},
   "outputs": [
    {
     "name": "stdout",
     "output_type": "stream",
     "text": [
      "1000\n",
      "15.03687487942278\n",
      "1000\n",
      "13.712388980384691\n",
      "1000\n",
      "18\n"
     ]
    }
   ],
   "source": [
    "phi = 0.5\n",
    "l = 3\n",
    "theta = np.pi\n",
    "print(S_drop(phi, l, theta)[0])\n",
    "print(S_dou(phi, l, theta)[0])\n",
    "print(S_worm(phi, l, theta)[0])\n",
    "print(S_roll(phi, l, theta)[0])\n",
    "print(S_perf(phi, l, theta)[0])\n",
    "print(2*l*l)"
   ]
  },
  {
   "cell_type": "code",
   "execution_count": 223,
   "metadata": {},
   "outputs": [
    {
     "data": {
      "image/png": "[encoded data removed]",
      "text/plain": [
       "<Figure size 800x600 with 1 Axes>"
      ]
     },
     "metadata": {},
     "output_type": "display_data"
    }
   ],
   "source": [
    "N_phi = 500\n",
    "arr_phi = np.linspace(0, 1, N_phi)\n",
    "\n",
    "M_l = 500\n",
    "arr_l = np.linspace(0.001, 7, M_l)\n",
    "\n",
    "theta = np.deg2rad(100)\n",
    "\n",
    "grid = np.zeros((M_l, N_phi), dtype=int)\n",
    "\n",
    "for i, l in enumerate(arr_l):\n",
    "    for j, phi in enumerate(arr_phi):\n",
    "        S = np.array([\n",
    "            S_drop(phi, l, theta)[0],\n",
    "            S_dou(phi, l, theta)[0],\n",
    "            S_worm(phi, l, theta)[0],\n",
    "            S_roll(phi, l, theta)[0],\n",
    "            S_perf(phi, l, theta)[0],\n",
    "            2*l*l\n",
    "        ])\n",
    "\n",
    "        grid[i, j] = np.argmin(S)\n",
    "\n",
    "plt.figure(figsize=(8, 6))\n",
    "plt.title(r'$\\theta$'+'={:.1f}'.format(np.rad2deg(theta)), fontsize=16)\n",
    "\n",
    "names = np.array(['droplet', 'doughnut', 'worm', 'roll', 'perforation', 'layer'])\n",
    "colors = [\"#ea3930\", \"#ffb534\", \"#3499e8\", \"#a946ff\", \"#32ff92\", \"#a9a9a9\"]\n",
    "color_map = matplotlib.colors.ListedColormap(colors)\n",
    "im = plt.imshow(grid[::-1, :], cmap=color_map, extent=[0, 1, 0, 7], aspect=\"auto\")\n",
    "\n",
    "patches = [ mpatches.Patch(color=colors[i], label=names[i]) for i in range(6) ]\n",
    "plt.legend(handles=patches, bbox_to_anchor=(1.05, 1), loc=2, borderaxespad=0. , fontsize=14)\n",
    "\n",
    "plt.xlabel(r'$\\phi$', fontsize=14)\n",
    "plt.ylabel(r'$l$', fontsize=14)\n",
    "plt.show()"
   ]
  },
  {
   "cell_type": "code",
   "execution_count": 214,
   "metadata": {},
   "outputs": [
    {
     "data": {
      "image/png": "[encoded data removed]",
      "text/plain": [
       "<Figure size 800x600 with 1 Axes>"
      ]
     },
     "metadata": {},
     "output_type": "display_data"
    }
   ],
   "source": [
    "N_phi = 500\n",
    "arr_phi = np.linspace(0, 1, N_phi)\n",
    "\n",
    "M_l = 500\n",
    "arr_l = np.linspace(0.001, 7, M_l)\n",
    "\n",
    "grid = np.zeros((M_l, N_phi), dtype=int)\n",
    "\n",
    "for i, l in enumerate(arr_l):\n",
    "    for j, phi in enumerate(arr_phi):\n",
    "        S = np.array([\n",
    "            S_drop_180(phi, l)[0],\n",
    "            S_dou_180(phi, l)[0],\n",
    "            S_worm_180(phi, l)[0],\n",
    "            S_roll_180(phi, l)[0],\n",
    "            S_perf_180(phi, l)[0],\n",
    "            2*l*l\n",
    "        ])\n",
    "\n",
    "        grid[i, j] = np.argmin(S)\n",
    "\n",
    "plt.figure(figsize=(8, 6))\n",
    "\n",
    "names = np.array(['droplet', 'doughnut', 'worm', 'roll', 'perforation', 'layer'])\n",
    "colors = [\"#ea3930\", \"#ffb534\", \"#3499e8\", \"#a946ff\", \"#32ff92\", \"#a9a9a9\"]\n",
    "color_map = matplotlib.colors.ListedColormap(colors)\n",
    "im = plt.imshow(grid[::-1, :], cmap=color_map, extent=[0, 1, 0, 7], aspect=\"auto\")\n",
    "\n",
    "patches = [ mpatches.Patch(color=colors[i], label=names[i]) for i in range(6) ]\n",
    "plt.legend(handles=patches, bbox_to_anchor=(1.05, 1), loc=2, borderaxespad=0. , fontsize=14)\n",
    "\n",
    "plt.xlabel(r'$\\phi$', fontsize=14)\n",
    "plt.ylabel(r'$l$', fontsize=14)\n",
    "plt.show()"
   ]
  },
  {
   "cell_type": "code",
   "execution_count": 121,
   "metadata": {},
   "outputs": [
    {
     "name": "stdout",
     "output_type": "stream",
     "text": [
      "[  0.41347012 100.           0.39633273   0.83539816   1.09383776\n",
      "   0.5       ]\n",
      "2\n"
     ]
    },
    {
     "name": "stderr",
     "output_type": "stream",
     "text": [
      "/var/folders/jx/xrzz7g5x5g582hdxfxg7fb680000gn/T/ipykernel_62366/876479228.py:2: RuntimeWarning: invalid value encountered in sqrt\n",
      "  d = (np.pi-2*theta)/np.cos(theta)**2/4 - np.tan(theta)/2 + np.sqrt(-4 + 64*phi*l*l/np.pi + (np.pi-2*theta)**2/np.cos(theta)**4 + 8*(np.cos(2*theta)-5)/np.cos(theta)**2/3 + 4*(1+(np.pi-2*theta)*np.tan(theta))/np.cos(theta)**2) / 4\n"
     ]
    }
   ],
   "source": [
    "phi = 0.1\n",
    "l = 0.5\n",
    "theta = np.pi\n",
    "\n",
    "S = np.array([\n",
    "            S_drop(phi, l, theta),\n",
    "            S_dou(phi, l, theta),\n",
    "            S_worm(phi, l, theta),\n",
    "            S_roll(phi, l, theta),\n",
    "            S_perf(phi, l, theta),\n",
    "            2*l*l\n",
    "        ])\n",
    "\n",
    "for i in range(6):\n",
    "    if np.isnan(S[i]):\n",
    "        S[i] = 100\n",
    "print(S)\n",
    "print(np.argmin(S))"
   ]
  },
  {
   "cell_type": "markdown",
   "metadata": {},
   "source": [
    "---"
   ]
  },
  {
   "cell_type": "code",
   "execution_count": 137,
   "metadata": {},
   "outputs": [],
   "source": [
    "data = np.loadtxt('divdiag.dat', skiprows=1, col)"
   ]
  },
  {
   "cell_type": "code",
   "execution_count": 211,
   "metadata": {},
   "outputs": [
    {
     "data": {
      "image/png": "[encoded data removed]",
      "text/plain": [
       "<Figure size 640x480 with 1 Axes>"
      ]
     },
     "metadata": {},
     "output_type": "display_data"
    }
   ],
   "source": [
    "names = np.array(['droplet', 'doughnut', 'worm', 'roll', 'perforation', 'layer'])\n",
    "colors = [\"#ea3930\", \"#ffb534\", \"#3499e8\", \"#a946ff\", \"#32ff92\", \"#a9a9a9\"]\n",
    "color_map = matplotlib.colors.ListedColormap(colors)\n",
    "im = plt.imshow(data[::-1, 1:], cmap=color_map, extent=[0, 7, 0, 1], aspect=\"auto\")\n",
    "\n",
    "patches = [ mpatches.Patch(color=colors[i], label=names[i]) for i in range(6) ]\n",
    "plt.legend(handles=patches, bbox_to_anchor=(1.05, 1), loc=2, borderaxespad=0. , fontsize=14)\n",
    "\n",
    "plt.xlabel(r'$\\phi$', fontsize=14)\n",
    "plt.ylabel(r'$l$', fontsize=14)\n",
    "plt.show()"
   ]
  },
  {
   "cell_type": "code",
   "execution_count": 141,
   "metadata": {},
   "outputs": [
    {
     "data": {
      "text/plain": [
       "array([[0.000e+00, 1.000e+00, 1.000e+00, ..., 1.000e+00, 1.000e+00,\n",
       "        1.000e+00],\n",
       "       [1.000e-04, 1.000e+00, 1.000e+00, ..., 1.000e+00, 1.000e+00,\n",
       "        1.000e+00],\n",
       "       [2.000e-04, 1.000e+00, 1.000e+00, ..., 1.000e+00, 1.000e+00,\n",
       "        1.000e+00],\n",
       "       ...,\n",
       "       [9.998e-01, 6.000e+00, 6.000e+00, ..., 6.000e+00, 6.000e+00,\n",
       "        6.000e+00],\n",
       "       [9.999e-01, 6.000e+00, 6.000e+00, ..., 6.000e+00, 6.000e+00,\n",
       "        6.000e+00],\n",
       "       [1.000e+00, 6.000e+00, 6.000e+00, ..., 6.000e+00, 6.000e+00,\n",
       "        6.000e+00]])"
      ]
     },
     "execution_count": 141,
     "metadata": {},
     "output_type": "execute_result"
    }
   ],
   "source": [
    "data"
   ]
  },
  {
   "cell_type": "code",
   "execution_count": null,
   "metadata": {},
   "outputs": [],
   "source": []
  }
 ],
 "metadata": {
  "kernelspec": {
   "display_name": ".venv",
   "language": "python",
   "name": "python3"
  },
  "language_info": {
   "codemirror_mode": {
    "name": "ipython",
    "version": 3
   },
   "file_extension": ".py",
   "mimetype": "text/x-python",
   "name": "python",
   "nbconvert_exporter": "python",
   "pygments_lexer": "ipython3",
   "version": "3.9.6"
  },
  "orig_nbformat": 4
 },
 "nbformat": 4,
 "nbformat_minor": 2
}

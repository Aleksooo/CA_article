{
 "cells": [
  {
   "cell_type": "code",
   "execution_count": 1,
   "metadata": {},
   "outputs": [],
   "source": [
    "import numpy as np"
   ]
  },
  {
   "cell_type": "markdown",
   "metadata": {},
   "source": [
    "---"
   ]
  },
  {
   "cell_type": "markdown",
   "metadata": {},
   "source": [
    "# Уравнения droplet"
   ]
  },
  {
   "cell_type": "code",
   "execution_count": null,
   "metadata": {},
   "outputs": [],
   "source": [
    "def y_dropet(phi, l, theta):\n",
    "    r = np.cbrt(3*phi*l*l / np.pi / (4 + (1 + np.cos(theta)*np.cos(theta)**2)))\n",
    "\n",
    "    "
   ]
  },
  {
   "cell_type": "markdown",
   "metadata": {},
   "source": [
    "### Валидация droplet"
   ]
  },
  {
   "cell_type": "code",
   "execution_count": null,
   "metadata": {},
   "outputs": [],
   "source": []
  },
  {
   "cell_type": "markdown",
   "metadata": {},
   "source": [
    "---"
   ]
  },
  {
   "cell_type": "markdown",
   "metadata": {},
   "source": [
    "# Уравнение Doughnut"
   ]
  },
  {
   "cell_type": "code",
   "execution_count": 2,
   "metadata": {},
   "outputs": [],
   "source": [
    "def y_doughnut(zeta, phi, l, theta):\n",
    "    if (theta < np.pi / 2):\n",
    "        return 0\n",
    "\n",
    "    d = (np.pi-2*theta)/np.cos(theta)**2/4 - np.tan(theta)/2 + np.sqrt(-4 + 64*phi*l*l/np.pi + (np.pi-2*theta)**2/np.cos(theta)**4 + 8*(np.cos(2*theta)-5)/np.cos(theta)**2/3 + 4*(1+(np.pi-2*theta)*np.tan(theta))/np.cos(theta)**2) / 4\n",
    "    return (d + np.sqrt(1 - np.tan(theta) - 4*zeta*zeta) + np.tan(theta)) * 0.5"
   ]
  },
  {
   "cell_type": "code",
   "execution_count": null,
   "metadata": {},
   "outputs": [],
   "source": [
    "def rho_doughnut(zeta, phi, l, theta):\n",
    "    return np.pi * y_doughnut(zeta, phi, l, theta)**2"
   ]
  },
  {
   "cell_type": "code",
   "execution_count": null,
   "metadata": {},
   "outputs": [],
   "source": [
    "def S_dought(phi, l, theta):\n",
    "    phi_min = -2*np.pi*(-5 + np.cos(2*theta) + 3*(np.pi-2*theta)*np.tan(theta))/48/l/l/np.cos(theta)**2\n",
    "    phi_max = np.pi*(9*np.cos(theta) - np.cos(3*theta) + 6*(1+l*np.cos(theta))*(l - np.pi + 2*theta + 2*np.cos(theta) + l*np.cos(2*theta) - np.sin(2*theta)))/48/l/l/np.cos(theta)**3\n",
    "\n",
    "    if phi_min < phi < phi_max: \n",
    "        d = (np.pi-2*theta)/np.cos(theta)**2/4 - np.tan(theta)/2 + np.sqrt(-4 + 64*phi*l*l/np.pi + (np.pi-2*theta)**2/np.cos(theta)**4 + 8*(np.cos(2*theta)-5)/np.cos(theta)**2/3 + 4*(1+(np.pi-2*theta)*np.tan(theta))/np.cos(theta)**2) / 4\n",
    "\n",
    "        return np.pi*d*d/2 - np.pi/np.cos(theta) + np.pi*(np.pi-2*theta)*(d+np.tan(theta))/np.cos(theta)/2, (phi_min, phi_max)\n",
    "    else:\n",
    "        return 1000, (phi_min, phi_max)"
   ]
  },
  {
   "cell_type": "code",
   "execution_count": null,
   "metadata": {},
   "outputs": [],
   "source": [
    "def rho_doughnut_180(zeta, phi, l):\n",
    "    return (np.sqrt(3*np.pi**4 + 192*phi*l*l*np.pi - 32*np.pi**2)/3 - np.pi*(np.pi - 4*np.sqrt(1 - 4*zeta*zeta))) /8/l/l"
   ]
  },
  {
   "cell_type": "code",
   "execution_count": null,
   "metadata": {},
   "outputs": [],
   "source": [
    "def S_dought_180(phi, l):\n",
    "    phi_min = np.pi/6/l/l\n",
    "    phi_max = np.pi/4 + np.pi*(np.pi-4)/8/l + np.pi*(10 - 3*np.pi)/24/l/l\n",
    "\n",
    "    if phi_min < phi < phi_max: \n",
    "        return -np.pi**3/16 + 2*np.pi/3 + 2*phi*l*l + np.sqrt(9*np.pi**6 - 96*np.pi**4 + 576*np.pi**3*phi*l*l) / 48, (phi_min, phi_max)\n",
    "    else: \n",
    "        return 1000, (phi_min, phi_max)"
   ]
  },
  {
   "cell_type": "markdown",
   "metadata": {},
   "source": [
    "### Валидация doughnut"
   ]
  },
  {
   "cell_type": "code",
   "execution_count": null,
   "metadata": {},
   "outputs": [],
   "source": []
  }
 ],
 "metadata": {
  "kernelspec": {
   "display_name": ".venv",
   "language": "python",
   "name": "python3"
  },
  "language_info": {
   "codemirror_mode": {
    "name": "ipython",
    "version": 3
   },
   "file_extension": ".py",
   "mimetype": "text/x-python",
   "name": "python",
   "nbconvert_exporter": "python",
   "pygments_lexer": "ipython3",
   "version": "3.9.6"
  },
  "orig_nbformat": 4
 },
 "nbformat": 4,
 "nbformat_minor": 2
}
